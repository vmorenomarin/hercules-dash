{
 "cells": [
  {
   "cell_type": "code",
   "execution_count": 1,
   "metadata": {},
   "outputs": [],
   "source": [
    "import pandas as pd\n",
    "import re"
   ]
  },
  {
   "cell_type": "code",
   "execution_count": 2,
   "metadata": {},
   "outputs": [],
   "source": [
    "path_report_oi = './reports/oferta_individual.xlsx'\n",
    "path_portafolio = './reports/portafolio.xlsx'\n",
    "path_past_portafolio = './reports/past_portafolio.xlsx'"
   ]
  },
  {
   "cell_type": "code",
   "execution_count": 3,
   "metadata": {},
   "outputs": [],
   "source": [
    "#Lista de campos que se usarán del reporte estadístico de Hércules.\n",
    "fields_report = [\n",
    "    'Evento',\n",
    "    'Documento',\n",
    "    'Tipo Documento',\n",
    "    'Sedes',\n",
    "    'Área',\n",
    "    'Ciclos',\n",
    "    'Categoría Deportiva',\n",
    "    'Nivel',\n",
    "    'Género',\n",
    "    'Categoría Precio',\n",
    "    'Categoría Afiliación',\n",
    "    'creada_por',\n",
    "    'Estado Cotización',\n",
    "    'Canal de Pago',\n",
    "    'Canal de Cotización',\n",
    "    'Forma de Pago',\n",
    "    'Franquicias',\n",
    "    'Precio Base',\n",
    "    'Costo',\n",
    "    'Tarifa Plena',\n",
    "    'Subsidio a la Demanda',\n",
    "    'Identificador del Cajero',\n",
    "    'Identificador Máquina',\n",
    "    'Fecha Registro',\n",
    "    'Documento Titular',\n",
    "    'Fecha Cotización',\n",
    "    'Id Material',\n",
    "    'Fecha Inicio del Servicio',\n",
    "    'Fecha Fin del Servicio',\n",
    "    'Id Servicio',\n",
    "    'Edad',\n",
    "    'Fecha de Nacimiento',\n",
    "    'Valor',\n",
    "    'Motivo de Cambio',\n",
    "]"
   ]
  },
  {
   "cell_type": "code",
   "execution_count": 117,
   "metadata": {},
   "outputs": [],
   "source": [
    "# Importando la data desde el reporte.\n",
    "dataset=pd.read_excel(path_report_oi, usecols=fields_report)"
   ]
  },
  {
   "cell_type": "code",
   "execution_count": 118,
   "metadata": {},
   "outputs": [
    {
     "name": "stdout",
     "output_type": "stream",
     "text": [
      "Se han eliminado 112 filas que no tienen registros para las sedes o en la fecha de reserva.\n"
     ]
    },
    {
     "name": "stderr",
     "output_type": "stream",
     "text": [
      "/tmp/ipykernel_12847/1102828524.py:11: SettingWithCopyWarning: \n",
      "A value is trying to be set on a copy of a slice from a DataFrame\n",
      "\n",
      "See the caveats in the documentation: https://pandas.pydata.org/pandas-docs/stable/user_guide/indexing.html#returning-a-view-versus-a-copy\n",
      "  dash_dataset[\"Id Material\"].replace(r\"(\\d{8})-F\", r\"\\g<1>\", inplace=True, regex=True)\n",
      "/tmp/ipykernel_12847/1102828524.py:12: SettingWithCopyWarning: \n",
      "A value is trying to be set on a copy of a slice from a DataFrame.\n",
      "Try using .loc[row_indexer,col_indexer] = value instead\n",
      "\n",
      "See the caveats in the documentation: https://pandas.pydata.org/pandas-docs/stable/user_guide/indexing.html#returning-a-view-versus-a-copy\n",
      "  dash_dataset[\"Id Material\"] = pd.to_numeric(dash_dataset[\"Id Material\"])\n"
     ]
    }
   ],
   "source": [
    "# Se eliminan todos los registros donde no haya un valor en la sede o en la fecha de reserva.\n",
    "dash_dataset = dataset.dropna(subset=['Sedes', 'Fecha Inicio del Servicio'])\n",
    "print(\n",
    "    f'Se han eliminado {dataset['Evento'].count()-dash_dataset['Evento'].count()} filas que no tienen registros para las sedes o en la fecha de reserva.'\n",
    ")\n",
    "\n",
    "# Inserción de columna 'Tipo de Oferta' al final del dataset, asignádole un valor ''.\n",
    "dash_dataset.insert(loc=len(dash_dataset.columns), column='Tipo de Oferta', value='')\n",
    "\n",
    "# Eliminación del prefijo '-F' en los código SAP (campo 'Id Material') de la oferta FOSFEC.\n",
    "dash_dataset['Id Material'].replace(r'(\\d{8})-F', r'\\g<1>', inplace=True, regex=True)\n",
    "dash_dataset['Id Material'] = pd.to_numeric(dash_dataset['Id Material'])"
   ]
  },
  {
   "cell_type": "code",
   "execution_count": 119,
   "metadata": {},
   "outputs": [
    {
     "name": "stdout",
     "output_type": "stream",
     "text": [
      "<class 'pandas.core.frame.DataFrame'>\n",
      "Int64Index: 51039 entries, 0 to 51150\n",
      "Data columns (total 35 columns):\n",
      " #   Column                     Non-Null Count  Dtype  \n",
      "---  ------                     --------------  -----  \n",
      " 0   Evento                     51039 non-null  object \n",
      " 1   Documento                  51039 non-null  int64  \n",
      " 2   Tipo Documento             51039 non-null  object \n",
      " 3   Sedes                      51039 non-null  object \n",
      " 4   Área                       51039 non-null  object \n",
      " 5   Ciclos                     51039 non-null  object \n",
      " 6   Categoría Deportiva        51039 non-null  object \n",
      " 7   Nivel                      51039 non-null  object \n",
      " 8   Género                     51039 non-null  object \n",
      " 9   Categoría Precio           51039 non-null  object \n",
      " 10  Categoría Afiliación       51039 non-null  object \n",
      " 11  creada_por                 51039 non-null  object \n",
      " 12  Estado Cotización          51039 non-null  object \n",
      " 13  Canal de Pago              27308 non-null  object \n",
      " 14  Canal de Cotización        27308 non-null  object \n",
      " 15  Forma de Pago              27308 non-null  object \n",
      " 16  Franquicias                10237 non-null  object \n",
      " 17  Precio Base                51039 non-null  int64  \n",
      " 18  Costo                      51039 non-null  int64  \n",
      " 19  Tarifa Plena               51039 non-null  int64  \n",
      " 20  Subsidio a la Demanda      51039 non-null  int64  \n",
      " 21  Motivo de Cambio           23727 non-null  object \n",
      " 22  Identificador del Cajero   27308 non-null  float64\n",
      " 23  Identificador Máquina      27308 non-null  object \n",
      " 24  Fecha Registro             51039 non-null  object \n",
      " 25  Documento Titular          51039 non-null  int64  \n",
      " 26  Fecha Cotización           51039 non-null  object \n",
      " 27  Id Material                51039 non-null  int64  \n",
      " 28  Fecha Inicio del Servicio  51039 non-null  object \n",
      " 29  Fecha Fin del Servicio     51039 non-null  object \n",
      " 30  Id Servicio                51039 non-null  int64  \n",
      " 31  Edad                       51039 non-null  int64  \n",
      " 32  Fecha de Nacimiento        51039 non-null  object \n",
      " 33  Valor                      51039 non-null  int64  \n",
      " 34  Tipo de Oferta             51039 non-null  object \n",
      "dtypes: float64(1), int64(10), object(24)\n",
      "memory usage: 14.0+ MB\n"
     ]
    }
   ],
   "source": [
    "# Patrones empleados en el campo 'Motivo de cambio' usando RegEx y con ello asignar las ofertas por Excedentes del 55% y cobro a empresas por una venta individual.\n",
    "pat_exc55 = r'exc\\w*\\s*\\d*[%]*[^excel]'\n",
    "pat_empresarial = r'empr\\w*\\s*|conv\\w*\\s*|nit\\s*\\d*|contr|se factura'"
   ]
  },
  {
   "cell_type": "code",
   "execution_count": 120,
   "metadata": {},
   "outputs": [],
   "source": [
    "# Asignación tipo de oferta 'Pago con novedad'.\n",
    "dash_dataset.loc[dash_dataset['Canal de Pago'].isna(), 'Tipo de Oferta']='Pago con Novedad'\n",
    "\n",
    "# Asignación tipo de oferta 'FOSFEC'.\n",
    "dash_dataset.loc[dash_dataset['Evento']=='fosfec', 'Tipo de Oferta'] = 'FOSFEC'\n",
    "\n",
    "# Asignación tipo de oferta 'Pago empresarial'.\n",
    "dash_dataset.loc[dash_dataset['Motivo de Cambio'].notna() & dash_dataset['Motivo de Cambio'].str.contains(pat_empresarial, case=False, regex=True), 'Tipo de Oferta'] = 'Pago Empresarial'\n",
    "\n",
    "# Asignación tipo de oferta 'Excedentes del 55%'.\n",
    "dash_dataset.loc[(dash_dataset['Ciclos'].str.contains(pat_exc55, case=False, regex=True)) | dash_dataset['Motivo de Cambio'].str.contains(pat_exc55, case=False, regex=True), 'Tipo de Oferta'] = 'Excedentes del 55%'\n",
    "\n",
    "# Asignación tipo de oferta 'Venta Directa'.\n",
    "dash_dataset.loc[(dash_dataset['Canal de Pago'].notna()) & (dash_dataset['Motivo de Cambio'].isna()), 'Tipo de Oferta'] = 'Venta Directa'"
   ]
  },
  {
   "cell_type": "code",
   "execution_count": 121,
   "metadata": {},
   "outputs": [],
   "source": [
    "# Lista de campos del portafolio que se usarán para cruzar con el reporte estadístico.\n",
    "fields_portafolio = [\n",
    "    'UNIDAD DE NEGOCIO',\n",
    "    'LINEA',\n",
    "    'CODIGO SAP',\n",
    "    'MATERIAL',\n",
    "    'NUM. PARTICIPANTES MAX',\n",
    "]"
   ]
  },
  {
   "cell_type": "code",
   "execution_count": 108,
   "metadata": {},
   "outputs": [
    {
     "name": "stderr",
     "output_type": "stream",
     "text": [
      "/tmp/ipykernel_12847/2821458284.py:17: SettingWithCopyWarning: \n",
      "A value is trying to be set on a copy of a slice from a DataFrame\n",
      "\n",
      "See the caveats in the documentation: https://pandas.pydata.org/pandas-docs/stable/user_guide/indexing.html#returning-a-view-versus-a-copy\n",
      "  portafolio_hercules.drop_duplicates(\"CODIGO SAP\", inplace=True, keep=\"first\")\n"
     ]
    }
   ],
   "source": [
    "# última versión del portafolio.\n",
    "portafolio = pd.read_excel(path_portafolio, usecols=fields_portafolio)\n",
    "\n",
    "# Archivo que contiene materiales pasados que no están en la última actualización del portafolio.\n",
    "past_portafolio = pd.read_excel(path_past_portafolio, usecols=fields_portafolio)\n",
    "\n",
    "full_portafolio=pd.concat([portafolio, past_portafolio])\n",
    "\n",
    "\n",
    "# Selecciona del portafolio sólo las filas donde la unidad de negocio coincida con las indicacadas en la lista 'UNIDADES DE NEGOCIO', pues son las unidades que ofertan servicios en Hércules.\n",
    "UNIDADES_NEGOCIO = ['EDUCACIÓN', 'CULTURA', 'ESPARCIMIENTO', 'DESARROLLO SOCIAL']\n",
    "portafolio_hercules = full_portafolio[\n",
    "     full_portafolio['UNIDAD DE NEGOCIO'].isin(UNIDADES_NEGOCIO)\n",
    "]\n",
    "\n",
    "# Elimina las fila donde se encuentre el repetido el código SAP.\n",
    "portafolio_hercules.drop_duplicates('CODIGO SAP', inplace=True, keep='first')"
   ]
  },
  {
   "cell_type": "code",
   "execution_count": 110,
   "metadata": {},
   "outputs": [],
   "source": [
    "portafolio_hercules.to_csv('full.csv', index=False, index_label=False)"
   ]
  },
  {
   "cell_type": "code",
   "execution_count": 122,
   "metadata": {},
   "outputs": [],
   "source": [
    "# Se ejecuta un left-join trayendo los campos de portafolio cruzados a través del Código SAP.\n",
    "final_dataset = pd.merge(\n",
    "    dash_dataset,\n",
    "    portafolio_hercules[\n",
    "        [\n",
    "            'UNIDAD DE NEGOCIO',\n",
    "            'LINEA',\n",
    "            'CODIGO SAP',\n",
    "            'NUM. PARTICIPANTES MAX',\n",
    "        ]\n",
    "    ],\n",
    "    left_on='Id Material',\n",
    "    right_on='CODIGO SAP',\n",
    "    how='left',\n",
    "    # validate='1:m'\n",
    "    \n",
    ")"
   ]
  },
  {
   "cell_type": "code",
   "execution_count": 123,
   "metadata": {},
   "outputs": [],
   "source": [
    "final_dataset.to_csv('dash_dataset.csv', index = False, index_label=False)"
   ]
  },
  {
   "cell_type": "code",
   "execution_count": 29,
   "metadata": {},
   "outputs": [],
   "source": [
    "df=pd.read_csv('./assets/data/dash_dataset.csv', header=0)\n"
   ]
  },
  {
   "cell_type": "code",
   "execution_count": 33,
   "metadata": {},
   "outputs": [
    {
     "data": {
      "text/plain": [
       "51039"
      ]
     },
     "execution_count": 33,
     "metadata": {},
     "output_type": "execute_result"
    }
   ],
   "source": [
    "df[\"Documento\"].shape[0]"
   ]
  }
 ],
 "metadata": {
  "kernelspec": {
   "display_name": "Python 3.8.10 ('venv': venv)",
   "language": "python",
   "name": "python3"
  },
  "language_info": {
   "codemirror_mode": {
    "name": "ipython",
    "version": 3
   },
   "file_extension": ".py",
   "mimetype": "text/x-python",
   "name": "python",
   "nbconvert_exporter": "python",
   "pygments_lexer": "ipython3",
   "version": "3.8.10"
  },
  "orig_nbformat": 4,
  "vscode": {
   "interpreter": {
    "hash": "36310b98abd5b420301472a5a3e98f7c1c94199f7b2ab2a346c446c6c3453b59"
   }
  }
 },
 "nbformat": 4,
 "nbformat_minor": 2
}
