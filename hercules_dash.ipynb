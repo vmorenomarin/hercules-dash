{
 "cells": [
  {
   "cell_type": "code",
   "execution_count": 122,
   "metadata": {},
   "outputs": [],
   "source": [
    "import pandas as pd\n",
    "import re"
   ]
  },
  {
   "cell_type": "code",
   "execution_count": 2,
   "metadata": {},
   "outputs": [],
   "source": [
    "path_report_oi = \"./reports/oferta_individual.xlsx\"\n",
    "path_portafolio = \"./reports/portafolio.xlsx\""
   ]
  },
  {
   "cell_type": "code",
   "execution_count": 3,
   "metadata": {},
   "outputs": [],
   "source": [
    "#Lista de campos que se usarán del reporte estadístico de Hércules.\n",
    "fields_report = [\n",
    "    \"Evento\",\n",
    "    \"Documento\",\n",
    "    \"Tipo Documento\",\n",
    "    \"Sedes\",\n",
    "    \"Área\",\n",
    "    \"Ciclos\",\n",
    "    \"Categoría Deportiva\",\n",
    "    \"Nivel\",\n",
    "    \"Género\",\n",
    "    \"Categoría Precio\",\n",
    "    \"Categoría Afiliación\",\n",
    "    \"creada_por\",\n",
    "    \"Estado Cotización\",\n",
    "    \"Canal de Pago\",\n",
    "    \"Canal de Cotización\",\n",
    "    \"Forma de Pago\",\n",
    "    \"Franquicias\",\n",
    "    \"Precio Base\",\n",
    "    \"Costo\",\n",
    "    \"Tarifa Plena\",\n",
    "    \"Subsidio a la Demanda\",\n",
    "    \"Identificador del Cajero\",\n",
    "    \"Identificador Máquina\",\n",
    "    \"Fecha Registro\",\n",
    "    \"Documento Titular\",\n",
    "    \"Fecha Cotización\",\n",
    "    \"Id Material\",\n",
    "    \"Fecha Inicio del Servicio\",\n",
    "    \"Fecha Fin del Servicio\",\n",
    "    \"Id Servicio\",\n",
    "    \"Edad\",\n",
    "    \"Fecha de Nacimiento\",\n",
    "    \"Valor\",\n",
    "    \"Motivo de Cambio\",\n",
    "]"
   ]
  },
  {
   "cell_type": "code",
   "execution_count": 123,
   "metadata": {},
   "outputs": [],
   "source": [
    "# Importando la data desde el reporte.\n",
    "dataset=pd.read_excel(path_report_oi, usecols=fields_report)"
   ]
  },
  {
   "cell_type": "code",
   "execution_count": null,
   "metadata": {},
   "outputs": [],
   "source": [
    "dataset.info()"
   ]
  },
  {
   "cell_type": "code",
   "execution_count": 155,
   "metadata": {},
   "outputs": [
    {
     "name": "stdout",
     "output_type": "stream",
     "text": [
      "Se han eliminado 112 filas que no tienen registros para las sedes o en la fecha de reserva.\n"
     ]
    },
    {
     "data": {
      "text/plain": [
       "0        70015860\n",
       "1        70001937\n",
       "2        70016273\n",
       "3        70016402\n",
       "4        70016402\n",
       "           ...   \n",
       "51146    70018313\n",
       "51147    70020371\n",
       "51148    70020371\n",
       "51149    70018313\n",
       "51150    70018313\n",
       "Name: Id Material, Length: 51151, dtype: int64"
      ]
     },
     "execution_count": 155,
     "metadata": {},
     "output_type": "execute_result"
    }
   ],
   "source": [
    "# Se eliminan todos los registros donde no haya un valor en la sede o en la fecha de reserva.\n",
    "dash_dataset=dataset.dropna(subset=[\"Sedes\", \"Fecha Inicio del Servicio\"])\n",
    "print(f'Se han eliminado {dataset[\"Evento\"].count()-dash_dataset[\"Evento\"].count()} filas que no tienen registros para las sedes o en la fecha de reserva.' )\n",
    "\n",
    "# Inserción de columna \"Tipo de Oferta\" al final del dataset, asignádole un valor \"\".\n",
    "dash_dataset.insert(loc=len(dash_dataset.columns), column=\"Tipo de Oferta\", value=\"\")\n",
    "\n",
    "# Eliminación del prefijo \"-F\" en los código SAP (campo \"Id Material\") de la oferta FOSFEC. \n",
    "dataset[\"Id Material\"].replace(r\"(\\d{8})-F\",  r\"\\g<1>\", inplace=True, regex=True)\n",
    "dataset[\"Id Material\"].astype(int)"
   ]
  },
  {
   "cell_type": "code",
   "execution_count": 156,
   "metadata": {},
   "outputs": [],
   "source": [
    "# Patrones empleados en el campo \"Motivo de cambio\" usando RegEx y con ello asignar las ofertas por Excedentes del 55% y cobro a empresas por una venta individual.\n",
    "pat_exc55 = r\"exc\\w*\\s*\\d*[%]*[^excel]\"\n",
    "pat_empresarial = r\"empr\\w*\\s*|conv\\w*\\s*|nit\\s*\\d*|contr|se factura\""
   ]
  },
  {
   "cell_type": "code",
   "execution_count": 157,
   "metadata": {},
   "outputs": [
    {
     "name": "stderr",
     "output_type": "stream",
     "text": [
      "/usr/lib/python3/dist-packages/pandas/core/indexing.py:494: SettingWithCopyWarning: \n",
      "A value is trying to be set on a copy of a slice from a DataFrame.\n",
      "Try using .loc[row_indexer,col_indexer] = value instead\n",
      "\n",
      "See the caveats in the documentation: http://pandas.pydata.org/pandas-docs/stable/user_guide/indexing.html#returning-a-view-versus-a-copy\n",
      "  self.obj[item] = s\n"
     ]
    }
   ],
   "source": [
    "# Asignación tipo de oferta \"Pago con novedad\".\n",
    "dash_dataset.loc[dash_dataset[\"Canal de Pago\"].isna(), \"Tipo de Oferta\"]=\"Pago con Novedad\"\n",
    "\n",
    "# Asignación tipo de oferta \"FOSFEC\".\n",
    "dash_dataset.loc[dash_dataset[\"Evento\"]==\"fosfec\", \"Tipo de Oferta\"] = \"FOSFEC\"\n",
    "\n",
    "# Asignación tipo de oferta \"Pago empresarial\".\n",
    "dash_dataset.loc[dash_dataset[\"Motivo de Cambio\"].notna() & dash_dataset[\"Motivo de Cambio\"].str.contains(pat_empresarial, case=False, regex=True), \"Tipo de Oferta\"] = \"Pago Empresarial\"\n",
    "\n",
    "# Asignación tipo de oferta \"Excedentes del 55%\".\n",
    "dash_dataset.loc[(dash_dataset[\"Ciclos\"].str.contains(pat_exc55, case=False, regex=True)) | dash_dataset[\"Motivo de Cambio\"].str.contains(pat_exc55, case=False, regex=True), \"Tipo de Oferta\"] = \"Excedentes del 55%\"\n",
    "\n",
    "# Asignación tipo de oferta \"Venta Directa\".\n",
    "dash_dataset.loc[(dash_dataset[\"Canal de Pago\"].notna()) & (dash_dataset[\"Motivo de Cambio\"].isna()), \"Tipo de Oferta\"] = \"Venta Directa\""
   ]
  },
  {
   "cell_type": "code",
   "execution_count": 158,
   "metadata": {},
   "outputs": [],
   "source": [
    "fields_portafolio = [\n",
    "    \"UNIDAD DE NEGOCIO\",\n",
    "    \"LINEA\",\n",
    "    \"CODIGO SAP\",\n",
    "    \"MATERIAL\",\n",
    "    \"NUM. PARTICIPANTES MIN\",\n",
    "    \"NUM. PARTICIPANTES MAX\",\n",
    "]"
   ]
  },
  {
   "cell_type": "code",
   "execution_count": 159,
   "metadata": {},
   "outputs": [],
   "source": [
    "# Lista de campos del portafolio que se usarán para cruzar con el reporte estadístico.\n",
    "portafolio = pd.read_excel(path_portafolio, usecols=fields_portafolio)\n",
    "\n",
    "# Elimina las fila donde se encuentre el repetido el código SAP.\n",
    "portafolio.drop_duplicates(\"CODIGO SAP\", inplace=True, keep=\"first\")\n",
    "\n",
    "# Selecciona del portafolio sólo las filas donde la unidad de negocio coincida con las indicacadas en la lista \"UNIDADES DE NEGOCIO\", pues son las unidades que ofertan servicios en Hércules.\n",
    "UNIDADES_NEGOCIO = [\"EDUCACIÓN\", \"CULTURA\", \"ESPARCIMIENTO\", \"DESARROLLO SOCIAL\"]\n",
    "portafolio_hercules = portafolio[\n",
    "    portafolio[\"UNIDAD DE NEGOCIO\"].isin(UNIDADES_NEGOCIO)\n",
    "]\n"
   ]
  },
  {
   "cell_type": "code",
   "execution_count": 160,
   "metadata": {},
   "outputs": [],
   "source": [
    "# Se ejecuta un left-join trayendo los campos de portafolio cruzados a través del Código SAP.\n",
    "dash_dataset = pd.merge(\n",
    "    dash_dataset,\n",
    "    portafolio_hercules[\n",
    "        [\n",
    "            \"UNIDAD DE NEGOCIO\",\n",
    "            \"LINEA\",\n",
    "            \"CODIGO SAP\",\n",
    "            \"NUM. PARTICIPANTES MIN\",\n",
    "            \"NUM. PARTICIPANTES MAX\",\n",
    "        ]\n",
    "    ],\n",
    "    left_on=\"Id Material\",\n",
    "    right_on=\"CODIGO SAP\",\n",
    "    how=\"left\",\n",
    ")\n"
   ]
  },
  {
   "cell_type": "code",
   "execution_count": 161,
   "metadata": {},
   "outputs": [],
   "source": [
    "dash_dataset.to_excel(\"dash_dataset_merged.xlsx\", index = False, index_label=False)\n",
    "# portafolio_hercules.to_excel(\"portafolio_hercules.xlsx\", index=False, index_label=False)"
   ]
  },
  {
   "cell_type": "code",
   "execution_count": 154,
   "metadata": {},
   "outputs": [
    {
     "data": {
      "text/plain": [
       "Evento                        object\n",
       "Documento                      int64\n",
       "Tipo Documento                object\n",
       "Sedes                         object\n",
       "Área                          object\n",
       "Ciclos                        object\n",
       "Categoría Deportiva           object\n",
       "Nivel                         object\n",
       "Género                        object\n",
       "Categoría Precio              object\n",
       "Categoría Afiliación          object\n",
       "creada_por                    object\n",
       "Estado Cotización             object\n",
       "Canal de Pago                 object\n",
       "Canal de Cotización           object\n",
       "Forma de Pago                 object\n",
       "Franquicias                   object\n",
       "Precio Base                    int64\n",
       "Costo                          int64\n",
       "Tarifa Plena                   int64\n",
       "Subsidio a la Demanda          int64\n",
       "Motivo de Cambio              object\n",
       "Identificador del Cajero     float64\n",
       "Identificador Máquina         object\n",
       "Fecha Registro                object\n",
       "Documento Titular              int64\n",
       "Fecha Cotización              object\n",
       "Id Material                   object\n",
       "Fecha Inicio del Servicio     object\n",
       "Fecha Fin del Servicio        object\n",
       "Id Servicio                    int64\n",
       "Edad                           int64\n",
       "Fecha de Nacimiento           object\n",
       "Valor                          int64\n",
       "Tipo de Oferta                object\n",
       "UNIDAD DE NEGOCIO             object\n",
       "LINEA                         object\n",
       "CODIGO SAP                   float64\n",
       "NUM. PARTICIPANTES MIN       float64\n",
       "NUM. PARTICIPANTES MAX       float64\n",
       "dtype: object"
      ]
     },
     "execution_count": 154,
     "metadata": {},
     "output_type": "execute_result"
    }
   ],
   "source": [
    "dash_dataset"
   ]
  }
 ],
 "metadata": {
  "kernelspec": {
   "display_name": "Python 3.8.10 64-bit",
   "language": "python",
   "name": "python3"
  },
  "language_info": {
   "codemirror_mode": {
    "name": "ipython",
    "version": 3
   },
   "file_extension": ".py",
   "mimetype": "text/x-python",
   "name": "python",
   "nbconvert_exporter": "python",
   "pygments_lexer": "ipython3",
   "version": "3.8.10"
  },
  "orig_nbformat": 4,
  "vscode": {
   "interpreter": {
    "hash": "31f2aee4e71d21fbe5cf8b01ff0e069b9275f58929596ceb00d14d90e3e16cd6"
   }
  }
 },
 "nbformat": 4,
 "nbformat_minor": 2
}
